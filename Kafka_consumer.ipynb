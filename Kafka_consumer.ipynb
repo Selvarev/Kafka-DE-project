{
 "cells": [
  {
   "cell_type": "code",
   "execution_count": null,
   "id": "8dafae37-1aac-46ff-b7c8-d8b00322a141",
   "metadata": {},
   "outputs": [],
   "source": [
    "pip install s3fs #for s3 bucket"
   ]
  },
  {
   "cell_type": "code",
   "execution_count": 1,
   "id": "4dd3015a-8b22-40c9-8bbf-48a086b9776a",
   "metadata": {},
   "outputs": [],
   "source": [
    "from kafka import KafkaConsumer\n",
    "from time import sleep\n",
    "from json import dumps,loads\n",
    "import json\n",
    "from s3fs import S3FileSystem"
   ]
  },
  {
   "cell_type": "code",
   "execution_count": 4,
   "id": "28afd316-82d5-4b8c-a5ce-8fd5f543fb7d",
   "metadata": {},
   "outputs": [],
   "source": [
    "consumer = KafkaConsumer(\n",
    "    'demo_test',\n",
    "    bootstrap_servers=[':9092'], # IP address needed\n",
    "                       value_deserializer= lambda x: loads(x.decode('utf-8')))"
   ]
  },
  {
   "cell_type": "code",
   "execution_count": null,
   "id": "7c647cf8",
   "metadata": {},
   "outputs": [],
   "source": [
    "for c in consumer:\n",
    "    print(c.value)"
   ]
  },
  {
   "cell_type": "code",
   "execution_count": null,
   "id": "e6ecbedb-1422-42fa-9745-7dda181a5f0e",
   "metadata": {},
   "outputs": [],
   "source": [
    "s3 = S3FileSystem()"
   ]
  },
  {
   "cell_type": "code",
   "execution_count": null,
   "id": "70e7e145-3f44-42e4-831e-3e6abb4464bd",
   "metadata": {},
   "outputs": [],
   "source": [
    "for count, i in enumerate(consumer):\n",
    "    with s3.open(\"s3://kafka-stock-market-selva/stock_market_().json\".format(count), 'w') as file:\n",
    "        json.dump(i.value, file)"
   ]
  }
 ],
 "metadata": {
  "kernelspec": {
   "display_name": "Python 3 (ipykernel)",
   "language": "python",
   "name": "python3"
  },
  "language_info": {
   "codemirror_mode": {
    "name": "ipython",
    "version": 3
   },
   "file_extension": ".py",
   "mimetype": "text/x-python",
   "name": "python",
   "nbconvert_exporter": "python",
   "pygments_lexer": "ipython3",
   "version": "3.10.5"
  }
 },
 "nbformat": 4,
 "nbformat_minor": 5
}
