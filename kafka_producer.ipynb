{
 "cells": [
  {
   "cell_type": "code",
   "execution_count": null,
   "id": "f4552e86",
   "metadata": {},
   "outputs": [],
   "source": [
    "pip install kafka-python\n",
    "pip install pandas"
   ]
  },
  {
   "cell_type": "code",
   "execution_count": 3,
   "id": "7812d29a-cd01-4c0c-8be4-9312adf910a8",
   "metadata": {},
   "outputs": [],
   "source": [
    "import pandas as pd\n",
    "from kafka import KafkaConsumer, KafkaProducer\n",
    "from time import sleep\n",
    "from json import dumps\n",
    "import json"
   ]
  },
  {
   "cell_type": "code",
   "execution_count": 7,
   "id": "a508a933-2d59-42b4-9764-0539cb2adf0d",
   "metadata": {},
   "outputs": [],
   "source": [
    "producer = KafkaProducer(bootstrap_servers = [':9092'], # Ip needed\n",
    "                         value_serializer = lambda x:\n",
    "                         dumps(x).encode('utf-8'))"
   ]
  },
  {
   "cell_type": "code",
   "execution_count": 13,
   "id": "6d9c8bc3-8eba-4008-a2ae-ab0715c73936",
   "metadata": {},
   "outputs": [
    {
     "data": {
      "text/plain": [
       "<kafka.producer.future.FutureRecordMetadata at 0x231d16df3a0>"
      ]
     },
     "execution_count": 13,
     "metadata": {},
     "output_type": "execute_result"
    }
   ],
   "source": [
    "producer.send('demo_test',value = \"{'name':'Sevuga'}\")"
   ]
  },
  {
   "cell_type": "code",
   "execution_count": null,
   "id": "3f9568ee",
   "metadata": {},
   "outputs": [],
   "source": [
    "# Extracted using url\n",
    "\n",
    "import requests\n",
    "import pandas as pd\n",
    "\n",
    "# Define the API URL\n",
    "url = 'https://www.alphavantage.co/query?function=TIME_SERIES_INTRADAY&symbol=IBM&interval=5min&apikey=demo'\n",
    "\n",
    "# Make the GET request\n",
    "response = requests.get(url)\n",
    "\n",
    "# Check if the response is successful\n",
    "if response.status_code == 200:\n",
    "    data = response.json()\n",
    "    \n",
    "    # Extract the time series data\n",
    "    if 'Time Series (5min)' in data:\n",
    "        time_series = data['Time Series (5min)']\n",
    "        \n",
    "        # Convert the time series data into a DataFrame\n",
    "        df = pd.DataFrame.from_dict(time_series, orient='index')\n",
    "        \n",
    "        # Convert columns to numeric values\n",
    "        df = df.apply(pd.to_numeric)\n",
    "        \n",
    "        # Convert the index to datetime format\n",
    "        df.index = pd.to_datetime(df.index)\n",
    "\n",
    "        df.index.name = 'Timestamp'\n",
    "\n",
    "        # Add custom column names\n",
    "        df.columns = ['Open Price', 'High Price', 'Low Price', 'Close Price', 'Volume']\n",
    "        \n",
    "        # Display the first few rows of the data\n",
    "        print(df.head())\n",
    "        \n",
    "        # Optionally, save the data to a CSV file\n",
    "        df.to_csv('IBM_5min_intraday_data.csv')\n",
    "    else:\n",
    "        print(\"Error: Time Series data not found in the response\")\n",
    "else:\n",
    "    print(f\"Error: Unable to fetch data (HTTP status code {response.status_code})\")\n"
   ]
  },
  {
   "cell_type": "code",
   "execution_count": null,
   "id": "2dc7d78e",
   "metadata": {},
   "outputs": [],
   "source": [
    "df.sample(1).to_dict(orient=\"records\")"
   ]
  },
  {
   "cell_type": "code",
   "execution_count": 4,
   "id": "d39d5fdf-e6f3-43e1-be87-7723a6ab23e6",
   "metadata": {},
   "outputs": [],
   "source": [
    "#Extracted using csv file\n",
    "df = pd.read_csv(\"monthly_IBM.CSV\")"
   ]
  },
  {
   "cell_type": "code",
   "execution_count": 5,
   "id": "2e987a0d-b38a-4a94-9286-f796d106c911",
   "metadata": {},
   "outputs": [
    {
     "data": {
      "text/html": [
       "<div>\n",
       "<style scoped>\n",
       "    .dataframe tbody tr th:only-of-type {\n",
       "        vertical-align: middle;\n",
       "    }\n",
       "\n",
       "    .dataframe tbody tr th {\n",
       "        vertical-align: top;\n",
       "    }\n",
       "\n",
       "    .dataframe thead th {\n",
       "        text-align: right;\n",
       "    }\n",
       "</style>\n",
       "<table border=\"1\" class=\"dataframe\">\n",
       "  <thead>\n",
       "    <tr style=\"text-align: right;\">\n",
       "      <th></th>\n",
       "      <th>timestamp</th>\n",
       "      <th>open</th>\n",
       "      <th>high</th>\n",
       "      <th>low</th>\n",
       "      <th>close</th>\n",
       "      <th>volume</th>\n",
       "    </tr>\n",
       "  </thead>\n",
       "  <tbody>\n",
       "    <tr>\n",
       "      <th>0</th>\n",
       "      <td>2024-11-20</td>\n",
       "      <td>207.77</td>\n",
       "      <td>216.70</td>\n",
       "      <td>204.070</td>\n",
       "      <td>214.60</td>\n",
       "      <td>49449236</td>\n",
       "    </tr>\n",
       "    <tr>\n",
       "      <th>1</th>\n",
       "      <td>2024-10-31</td>\n",
       "      <td>220.63</td>\n",
       "      <td>237.37</td>\n",
       "      <td>203.510</td>\n",
       "      <td>206.72</td>\n",
       "      <td>105624376</td>\n",
       "    </tr>\n",
       "    <tr>\n",
       "      <th>2</th>\n",
       "      <td>2024-09-30</td>\n",
       "      <td>201.91</td>\n",
       "      <td>224.15</td>\n",
       "      <td>199.335</td>\n",
       "      <td>221.08</td>\n",
       "      <td>83415811</td>\n",
       "    </tr>\n",
       "    <tr>\n",
       "      <th>3</th>\n",
       "      <td>2024-08-30</td>\n",
       "      <td>192.81</td>\n",
       "      <td>202.17</td>\n",
       "      <td>181.810</td>\n",
       "      <td>202.13</td>\n",
       "      <td>65453729</td>\n",
       "    </tr>\n",
       "    <tr>\n",
       "      <th>4</th>\n",
       "      <td>2024-07-31</td>\n",
       "      <td>173.45</td>\n",
       "      <td>196.26</td>\n",
       "      <td>173.380</td>\n",
       "      <td>192.14</td>\n",
       "      <td>81258646</td>\n",
       "    </tr>\n",
       "  </tbody>\n",
       "</table>\n",
       "</div>"
      ],
      "text/plain": [
       "    timestamp    open    high      low   close     volume\n",
       "0  2024-11-20  207.77  216.70  204.070  214.60   49449236\n",
       "1  2024-10-31  220.63  237.37  203.510  206.72  105624376\n",
       "2  2024-09-30  201.91  224.15  199.335  221.08   83415811\n",
       "3  2024-08-30  192.81  202.17  181.810  202.13   65453729\n",
       "4  2024-07-31  173.45  196.26  173.380  192.14   81258646"
      ]
     },
     "execution_count": 5,
     "metadata": {},
     "output_type": "execute_result"
    }
   ],
   "source": [
    "df.head()"
   ]
  },
  {
   "cell_type": "code",
   "execution_count": null,
   "id": "136e339d-8376-4dbe-803a-3c505a84977e",
   "metadata": {},
   "outputs": [],
   "source": [
    "while True:\n",
    "    dict_stock = df.sample(1).to_dict(orient = \"records\")[0]\n",
    "    producer.send('demo_test',value=dict_stock)"
   ]
  }
 ],
 "metadata": {
  "kernelspec": {
   "display_name": "Python 3 (ipykernel)",
   "language": "python",
   "name": "python3"
  },
  "language_info": {
   "codemirror_mode": {
    "name": "ipython",
    "version": 3
   },
   "file_extension": ".py",
   "mimetype": "text/x-python",
   "name": "python",
   "nbconvert_exporter": "python",
   "pygments_lexer": "ipython3",
   "version": "3.10.5"
  }
 },
 "nbformat": 4,
 "nbformat_minor": 5
}
